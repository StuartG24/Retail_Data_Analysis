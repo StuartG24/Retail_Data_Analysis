{
 "cells": [
  {
   "cell_type": "markdown",
   "metadata": {},
   "source": [
    "# Data Exploration & Working\n",
    "\n",
    "NB: NOT the report but a place to brain dump analysis, plots etc etc - Then copy relevnt code and results to the report\n",
    "\n",
    "# Actions\n",
    "- Look at and cite the CRISP approach? Follow it?"
   ]
  },
  {
   "cell_type": "markdown",
   "metadata": {},
   "source": [
    "# Sequence\n",
    "\n",
    "Suggested\n",
    " 1. Data Exploration - Explore the data and show you understand its structure and relations\n",
    " 2. Data Validation - Check the quality of the data. Is it complete? Are there obvious errors?\n",
    " 3. Data Visualisation - Gain an overall understanding of the data with visualisations\n",
    " 4. Data Analysis = Set some questions and use the data to answer them\n",
    " 5. Data Augmentation - Add new data from another source to bring new insights to the data you already have\n",
    "\n"
   ]
  },
  {
   "cell_type": "markdown",
   "metadata": {},
   "source": [
    "# Data Sourcing & Load\n",
    "\n",
    "- Sources used, where from, type\n",
    "- How up to date, when published\n",
    "- Here show use of: csv, JSON, requests ... Pandas\n",
    "\n",
    "### Source Datasets from JC Penny\n",
    "\n",
    "\n",
    "\n",
    "#### Products\n",
    "- products.csv\n",
    "- products.json\n",
    "\n",
    "?? Same data content but in .csv and .json format\n",
    "?? both loaded and checked to confirm same content\n",
    "\n",
    "Data"
   ]
  },
  {
   "cell_type": "code",
   "execution_count": 1,
   "metadata": {},
   "outputs": [],
   "source": [
    "# General setup and imports used throughtout the remaining cells\n",
    "#\n",
    "\n",
    "# Libraries For file handling and dataframes\n",
    "import os\n",
    "import pandas as pd \n",
    "\n",
    "# Libraries ....\n",
    "\n",
    "\n",
    "\n",
    "# A simple utility function to obtain and summarise key elements of a given dataframe\n",
    "def print_file_summary(data_frame):\n",
    "    # Create a temporary df and ensure no lists remain, so that unique items can be identified\n",
    "    temp_df = data_frame.copy()\n",
    "    temp_df = temp_df.map(lambda cell: str(cell) if isinstance(cell, list) else cell)\n",
    "    summary_of_df = pd.DataFrame({'Count': temp_df.count(),\n",
    "                                 'Missing': temp_df.isnull().sum(),\n",
    "                                 'Unique': temp_df.nunique()})\n",
    "    print(summary_of_df)\n",
    "    print(f'\\nColumns and First 3 Rows')\n",
    "    print(data_frame.head(3))\n",
    "\n",
    "    # Delete the temporary dataframe\n",
    "    del temp_df"
   ]
  },
  {
   "cell_type": "markdown",
   "metadata": {},
   "source": [
    "# Data Sources, Load & Review"
   ]
  },
  {
   "cell_type": "code",
   "execution_count": 4,
   "metadata": {},
   "outputs": [
    {
     "name": "stdout",
     "output_type": "stream",
     "text": [
      "File Summary for: jcpenney_products.json\n",
      "                        Count  Missing  Unique\n",
      "uniq_id                  7982        0    7982\n",
      "sku                      7982        0    6044\n",
      "name_title               7982        0    6002\n",
      "description              7982        0    5620\n",
      "list_price               7982        0    1037\n",
      "sale_price               7982        0    2063\n",
      "category                 7982        0    1169\n",
      "category_tree            7982        0    1997\n",
      "average_product_rating   7982        0     153\n",
      "product_url              7982        0    7982\n",
      "product_image_urls       7982        0    6519\n",
      "brand                    7982        0     721\n",
      "total_number_reviews     7982        0      22\n",
      "Reviews                  7982        0    7982\n",
      "Bought With              7982        0    7982\n",
      "\n",
      "Columns and First 3 Rows\n",
      "                            uniq_id           sku  \\\n",
      "0  b6c0b6bea69c722939585baeac73c13d  pp5006380337   \n",
      "1  93e5272c51d8cce02597e3ce67b7ad0a  pp5006380337   \n",
      "2  013e320f2f2ec0cf5b3ff5418d688528  pp5006380337   \n",
      "\n",
      "                                    name_title  \\\n",
      "0  Alfred Dunner® Essential Pull On Capri Pant   \n",
      "1  Alfred Dunner® Essential Pull On Capri Pant   \n",
      "2  Alfred Dunner® Essential Pull On Capri Pant   \n",
      "\n",
      "                                         description list_price sale_price  \\\n",
      "0  You'll return to our Alfred Dunner pull-on cap...      41.09      24.16   \n",
      "1  You'll return to our Alfred Dunner pull-on cap...      41.09      24.16   \n",
      "2  You'll return to our Alfred Dunner pull-on cap...      41.09      24.16   \n",
      "\n",
      "        category                 category_tree  average_product_rating  \\\n",
      "0  alfred dunner  jcpenney|women|alfred dunner                   2.625   \n",
      "1  alfred dunner  jcpenney|women|alfred dunner                   3.000   \n",
      "2       view all       jcpenney|women|view all                   2.625   \n",
      "\n",
      "                                         product_url  \\\n",
      "0  http://www.jcpenney.com/alfred-dunner-essentia...   \n",
      "1  http://www.jcpenney.com/alfred-dunner-essentia...   \n",
      "2  http://www.jcpenney.com/alfred-dunner-essentia...   \n",
      "\n",
      "                                  product_image_urls          brand  \\\n",
      "0  http://s7d9.scene7.com/is/image/JCPenney/DP122...  Alfred Dunner   \n",
      "1  http://s7d9.scene7.com/is/image/JCPenney/DP122...  Alfred Dunner   \n",
      "2  http://s7d9.scene7.com/is/image/JCPenney/DP122...  Alfred Dunner   \n",
      "\n",
      "   total_number_reviews                                            Reviews  \\\n",
      "0                     8  [{'User': 'fsdv4141', 'Review': 'You never hav...   \n",
      "1                     8  [{'User': 'tpcu2211', 'Review': 'You never hav...   \n",
      "2                     8  [{'User': 'pcfg3234', 'Review': 'You never hav...   \n",
      "\n",
      "                                         Bought With  \n",
      "0  [898e42fe937a33e8ce5e900ca7a4d924, 8c02c262567...  \n",
      "1  [bc9ab3406dcaa84a123b9da862e6367d, 18eb69e8fc2...  \n",
      "2  [3ce70f519a9cfdd85cdbdecd358e5347, b0295c96d2b...  \n",
      "File Summary for: jcpenney_reviewers.json\n",
      "          Count  Missing  Unique\n",
      "Username   5000        0    4999\n",
      "DOB        5000        0      52\n",
      "State      5000        0      57\n",
      "Reviewed   5000        0    4030\n",
      "\n",
      "Columns and First 3 Rows\n",
      "   Username         DOB          State                            Reviewed\n",
      "0  bkpn1412  31.07.1983         Oregon  [cea76118f6a9110a893de2b7654319c0]\n",
      "1  gqjs4414  27.07.1998  Massachusetts  [fa04fe6c0dd5189f54fe600838da43d3]\n",
      "2  eehe1434  08.08.1950          Idaho                                  []\n"
     ]
    }
   ],
   "source": [
    "# Load the JSON files and examine the format and content\n",
    "# NB: Use pandas json load to directly create a dataframe, rather then importing and using the JSON library\n",
    "\n",
    "# File handling and dataframes - from the designated data directory within the current working directory\n",
    "DATA_DIRECTORY = 'JCPenney_Data_Original'\n",
    "\n",
    "# Products file\n",
    "file_name = 'jcpenney_products.json'\n",
    "file_path = os.path.join(os.getcwd(), DATA_DIRECTORY, file_name)\n",
    "if not os.path.isfile(file_path):\n",
    "    raise Exception(f'File not found: {file_path}')\n",
    "df_jcp_products = pd.read_json(file_path, lines=True)\n",
    "                    \n",
    "# Initial look at the file and data fields\n",
    "print(f'File Summary for: {file_name}')\n",
    "print_file_summary(df_jcp_products)\n",
    "\n",
    "# Reviewers file\n",
    "file_name = 'jcpenney_reviewers.json'\n",
    "file_path = os.path.join(os.getcwd(), DATA_DIRECTORY, file_name)\n",
    "if not os.path.isfile(file_path):\n",
    "    raise Exception(f'File not found: {file_path}')\n",
    "df_jcp_products = pd.read_json(file_path, lines=True)\n",
    "                    \n",
    "# Initial look at the file and data fields\n",
    "print(f'File Summary for: {file_name}')\n",
    "print_file_summary(df_jcp_products)\n"
   ]
  },
  {
   "cell_type": "code",
   "execution_count": null,
   "metadata": {},
   "outputs": [],
   "source": [
    "# Load the CSV files and examine the format and content\n",
    "# Compare with the JSON files"
   ]
  },
  {
   "cell_type": "code",
   "execution_count": null,
   "metadata": {},
   "outputs": [],
   "source": [
    "# Load the five JC Penny datasets - in .csv and .hson format\n",
    "# Load the .csv and .json formats \n",
    "\n",
    "# File handling and dataframes - from the designated data directory within the current working directory\n",
    "# Do not amend the original source file, but retain until cleaned dataframes are produced for working\n",
    "import os\n",
    "import pandas as pd \n",
    "DATA_DIRECTORY = 'JCPenney_Data_Original'\n",
    "\n",
    "# Load the products .csv and .json file, exit if do not exist or are invalid\n",
    "file_path = os.path.join(os.getcwd(), DATA_DIRECTORY, 'products.csv')\n",
    "if not os.path.isfile(file_path):\n",
    "    raise Exception(f\"File not found: {file_path}\")\n",
    "df_jcp_products = pd.read_csv(file_path)\n",
    "\n",
    "# TODO: Compare the csv and json files ... the same?\n",
    "\n",
    "# Initial look at the format of both files and data fields contained\n",
    "\n",
    "print('Products File - Summary')\n",
    "summary_of_df = pd.DataFrame({'Count': df_jcp_products.count(),\n",
    "                              'Missing': df_jcp_products.isnull().sum() })\n",
    "print(summary_of_df)\n",
    "print(f'\\nProducts File - Columns and First 3 Rows')\n",
    "print(df_jcp_products.head(3))\n"
   ]
  },
  {
   "cell_type": "markdown",
   "metadata": {},
   "source": [
    "## Observations from Data Load\n",
    "\n",
    "- JSON has more data than CSV, and has linked the products and review into one file. So sue this\n",
    "\n",
    "- Duplicate username\n",
    "\n",
    "\n",
    "### TODO\n",
    "- But still load CSV just to demonstrate why not using\n",
    "- some missing to tidy up\n",
    "- Look at unique count\n",
    "- rename uniqu-id to reenforce it is the review id\n",
    "- explain SKU and all the fields?\n",
    "- Go through one by one yo understand structures eg the nested Reviews and Bought With fields\n",
    "- Use an image lookup URL to retrieve and print an image\n",
    "- Product URLs don't work\n"
   ]
  },
  {
   "cell_type": "markdown",
   "metadata": {},
   "source": [
    "# Data Exploration\n",
    "\n",
    "- What is the structure, fields, meanings\n",
    "- What are the relationships"
   ]
  },
  {
   "cell_type": "markdown",
   "metadata": {},
   "source": [
    "# Data Cleaning\n",
    "\n",
    "- find problems and resolve\n",
    "- missing, null\n",
    "- duplicates\n",
    "- outliers, anomolies\n"
   ]
  },
  {
   "cell_type": "markdown",
   "metadata": {},
   "source": []
  },
  {
   "cell_type": "markdown",
   "metadata": {},
   "source": [
    "# Potential Items / Observations to Investigate Further\n",
    "\n"
   ]
  }
 ],
 "metadata": {
  "kernelspec": {
   "display_name": "base",
   "language": "python",
   "name": "python3"
  },
  "language_info": {
   "codemirror_mode": {
    "name": "ipython",
    "version": 3
   },
   "file_extension": ".py",
   "mimetype": "text/x-python",
   "name": "python",
   "nbconvert_exporter": "python",
   "pygments_lexer": "ipython3",
   "version": "3.12.4"
  }
 },
 "nbformat": 4,
 "nbformat_minor": 2
}
