{
 "cells": [
  {
   "cell_type": "markdown",
   "metadata": {},
   "source": [
    "# Data Exploration & Working\n",
    "\n",
    "Working before copying code and results to report draft\n",
    "\n",
    "## Actions\n",
    "- Look at and cite the CRISP approach? Follow it?"
   ]
  },
  {
   "cell_type": "markdown",
   "metadata": {},
   "source": [
    "# Sequence\n",
    "\n",
    "Suggested\n",
    " 1. Data Exploration - Explore the data and show you understand its structure and relations\n",
    " 2. Data Validation - Check the quality of the data. Is it complete? Are there obvious errors?\n",
    " 3. Data Visualisation - Gain an overall understanding of the data with visualisations\n",
    " 4. Data Analysis = Set some questions and use the data to answer them\n",
    " 5. Data Augmentation - Add new data from another source to bring new insights to the data you already have\n",
    "\n"
   ]
  },
  {
   "cell_type": "markdown",
   "metadata": {},
   "source": [
    "# Data Sourcing & Load\n",
    "\n",
    "- Sources used, where from, type\n",
    "- How up to date, when published\n",
    "- Here show use of: csv, JSON, requests ... Pandas"
   ]
  },
  {
   "cell_type": "markdown",
   "metadata": {},
   "source": [
    "# Data Exploration\n",
    "\n",
    "- What is the structure, fields, meanings\n",
    "- What are the relationships"
   ]
  },
  {
   "cell_type": "markdown",
   "metadata": {},
   "source": [
    "# Data Cleaning\n",
    "\n",
    "- find problems and resolve\n",
    "- missing, null\n",
    "- duplicates\n",
    "- outliers, anomolies\n"
   ]
  },
  {
   "cell_type": "markdown",
   "metadata": {},
   "source": []
  }
 ],
 "metadata": {
  "language_info": {
   "name": "python"
  }
 },
 "nbformat": 4,
 "nbformat_minor": 2
}
