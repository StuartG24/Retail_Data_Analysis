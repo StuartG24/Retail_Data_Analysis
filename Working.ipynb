{
 "cells": [
  {
   "cell_type": "markdown",
   "metadata": {},
   "source": [
    "# General\n",
    "\n",
    "### TO DO\n",
    "\n",
    "- 2710017_BD2  \n",
    "- Compare the CSV files and why rejected\n",
    "- customers.csv - nb 4999 in the CSV file what have they done with the duplicate?\n",
    "- Check image and URL requests\n",
    "- Other augmentation?\n",
    "- Cloud plot\n",
    "\n",
    "\n",
    "### Assignment\n",
    "\n",
    "- 1. Data Exploration - Explore the data and show you understand its structure and relations\n",
    "- 2. Data Validation - Check the quality of the data. Is it complete? Are there obvious errors?\n",
    "- x. Data Preparation - Addresss the issues identified, supliment/augment the data, restructure\n",
    "    - Select Data - which to use and which to exclude .. with reasoning\n",
    "    - Clean Data - 'correct, impute, remove' ...\n",
    "    - Construct Data - derive new attributes as needed/helpful\n",
    "    - Integrate Data - new datasets, augment, other sources\n",
    "    - Format Data - reformat as needed, eg string to numeric, dates, categorical  \n",
    "\n",
    "- ?? data structure, size\n",
    "- ?? data quality, missing etc\n",
    "- ?? References .. from lecture: But he did say we should mention sources for code including the course materials\n",
    "\n",
    "#### Data Completeness\n",
    " - Missing Data - Identify and resolve by removal or inferring. Imputation and visualisation, examining descriptive stats\n",
    "- Noisy - Random errors, eg from faulty sensors, data transmission\n",
    "- Duplicates - Identify and eliminate duplicates, redundancy. NB: Can occur after data integration\n",
    "- Inconsistency - Data items don't align, eg DOB and age"
   ]
  },
  {
   "cell_type": "markdown",
   "metadata": {},
   "source": [
    "# Analysis & Visualisation\n",
    "\n",
    "## To Do\n",
    "\n",
    "\n",
    "- Customers\n",
    "    - by age bands eg under 25, 24 to 40 etc\n",
    "    - sales counts and value\n",
    "    - bar chart to visualise\n",
    "\n",
    "- Sales, Brands, Geography\n",
    "    - Repeat / Frequency of sales, eg histogram of how many products were bought 1,2,3,4,5 etc times\n",
    "    - Are low sales linked to anything such as state, age of customer etc\n",
    "    - anything in the bought with, eg more sales this way?\n",
    "    - Sales by brand, any patterns \n",
    "\n",
    "- Prices\n",
    "    - stock price vs sales price comparison\n",
    "    - how many are discounted vs not\n",
    "    - which are most discounted, does this equate to higher sales etc\n",
    "\n",
    "- Reviews\n",
    "    - any messages from the reviews?\n",
    "    - any interpretation possible?\n",
    "    - links to brand?\n",
    "    - anything else like age, geography ...\n",
    "    - ?? sales probably not linked to reviews, unless I suppose reviews are submitted at a later date\n",
    "    - ?? follow on sales for a customer?\n",
    "    - wordcloud from reviews\n",
    "\n",
    "\n",
    "\n"
   ]
  }
 ],
 "metadata": {
  "kernelspec": {
   "display_name": "base",
   "language": "python",
   "name": "python3"
  },
  "language_info": {
   "codemirror_mode": {
    "name": "ipython",
    "version": 3
   },
   "file_extension": ".py",
   "mimetype": "text/x-python",
   "name": "python",
   "nbconvert_exporter": "python",
   "pygments_lexer": "ipython3",
   "version": "3.12.4"
  }
 },
 "nbformat": 4,
 "nbformat_minor": 2
}
