{
 "cells": [
  {
   "cell_type": "markdown",
   "metadata": {},
   "source": [
    "# Report\n",
    "\n",
    "?? Initial suggested structure\n",
    "\n",
    " 1. Data Exploration - Explore the data and show you understand its structure and relations\n",
    " 2. Data Validation - Check the quality of the data. Is it complete? Are there obvious errors?\n",
    " 3. Data Visualisation - Gain an overall understanding of the data with visualisations\n",
    " 4. Data Analysis = Set some questions and use the data to answer them\n",
    " 5. Data Augmentation - Add new data from another source to bring new insights to the data you already have"
   ]
  }
 ],
 "metadata": {
  "language_info": {
   "name": "python"
  }
 },
 "nbformat": 4,
 "nbformat_minor": 2
}
