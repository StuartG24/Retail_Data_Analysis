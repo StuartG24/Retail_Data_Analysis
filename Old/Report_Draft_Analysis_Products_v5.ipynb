{
 "cells": [
  {
   "cell_type": "code",
   "execution_count": null,
   "metadata": {},
   "outputs": [],
   "source": [
    "## Product Sales Analysis\n",
    "\n"
   ]
  },
  {
   "cell_type": "code",
   "execution_count": 2,
   "metadata": {},
   "outputs": [],
   "source": [
    "# Retrieve the completed working dataframes for analysis\n",
    "%store -r sales_df stock_df customer_reviews_df customers_df states_df"
   ]
  },
  {
   "cell_type": "code",
   "execution_count": null,
   "metadata": {},
   "outputs": [],
   "source": [
    "# Examine product sales\n",
    "\n",
    "import pandas as pd\n",
    "import matplotlib.pyplot as plt\n",
    "plt.style.use('ggplot')\n",
    "\n",
    "# Create customer sales \n",
    "cust_sales = pd.merge(customer_reviews_df, customers_df, on='customer_id')\n",
    "cust_sales = pd.merge(cust_sales, sales_df, on='uniq_id', how='left')\n",
    "aaaa = pd.merge(cust_sales, stock_df, on='sku', how='left')\n",
    "\n",
    "# Aggregate for each product the sales information\n",
    "temp = groups['sale_price'].transform('count')\n",
    "temp2 = groups['sale_price'].transform('sum')\n",
    "\n",
    "# pp5006240612\n",
    "\n",
    "#product_summary = cust_sales[['sku']]\n",
    "#groups = cust_sales.groupby('sku')\n",
    "#product_summary['sales_count'] = groups['sale_price'].transform('count')\n"
   ]
  }
 ],
 "metadata": {
  "kernelspec": {
   "display_name": "base",
   "language": "python",
   "name": "python3"
  },
  "language_info": {
   "codemirror_mode": {
    "name": "ipython",
    "version": 3
   },
   "file_extension": ".py",
   "mimetype": "text/x-python",
   "name": "python",
   "nbconvert_exporter": "python",
   "pygments_lexer": "ipython3",
   "version": "3.12.4"
  }
 },
 "nbformat": 4,
 "nbformat_minor": 2
}
