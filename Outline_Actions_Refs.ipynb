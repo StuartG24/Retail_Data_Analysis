{
 "cells": [
  {
   "cell_type": "markdown",
   "metadata": {},
   "source": [
    "# Outline & Actions for Analysis\n",
    "@ 20/11/24\n",
    "\n"
   ]
  },
  {
   "cell_type": "markdown",
   "metadata": {},
   "source": [
    "# Reading & References\n",
    "\n",
    "- Kaggle: Previous Analysis, ? same datset ?: https://www.kaggle.com/code/arinzem/data-analysis-of-jc-penney-data-with-python\n",
    "- Kaggle: Another Analysis, ? different dataset? :https://www.kaggle.com/code/danofer/jcpenny-cleanstarteda\n",
    "- IvyPanda: A business analysis on JC Penny: https://ivypanda.com/essays/jc-penney-company-analysis-and-recommendations/"
   ]
  },
  {
   "cell_type": "markdown",
   "metadata": {},
   "source": [
    "# Actions\n",
    "\n",
    "### General\n",
    "- Of the 5 data files, is there a difference in the JSON and CSV product, review files? Use both to demonstrate pythoin skills?\n",
    "- Online image request to demonstrate pythoin skills\n",
    "- Use additional data download or using \"requests\" \n",
    "- How to produce pdf, that includes python code and also citations?\n",
    "- Look at structure ... make it more busines focused? code in appendix or at end of each secttion to make it readable but support the findings etc?\n",
    "\n",
    "### Data\n",
    "- Load both CSV and JSON and compare to see if any differences then just work on one\n",
    "- Rename unique-id to make it clear it is a product id, worth joining the two files via unique-id?\n",
    "- Remove the duplicated usernames?\n",
    "- Any other missing values / duplicates to identify and take action eg remove?\n",
    "\n",
    "### Inspiration\n",
    "- See the map plots and others in the Kagle previous ones\n",
    "- See the use of population data load for analysis\n",
    "- See the citations of business reports ... perhaps follow up on some specific thngs in those\n",
    "- ?? Don't know the date of the reviews etc, so state an assumption ..... or validate proces to current JCPenny data and see if can judge from that?\n",
    "\n",
    "### Structure\n",
    "- NB structure of Kaggle example runs like a flow of what analysis rather than a business report with a summary then supporting findings ... perhaps an appendix with other workings, and to demonstrate use of python\n",
    "- ?? Re above how is scoring weighted oe python skills vs abaility to write a business report?\n",
    "\n"
   ]
  },
  {
   "cell_type": "markdown",
   "metadata": {},
   "source": [
    "# Key Assignment Points\n",
    "\n",
    "?? Structure\n",
    "?? Business type report with exec summary etc .....\n",
    "?? Delivery format: PDF but with code included ... appendix or inline?\n",
    "\n",
    "## The Assignment\n",
    "\n",
    "Your task with this assignment is to use the data provided to demonstrate your Python data manipulation skills.\n",
    "\n",
    "There are three `.csv` files and two `.json` files so you can process different types of data. The files also contain unstructured data in the form of natural language in English and links to images that you can access from the JC Penney website (use the field called `product_image_urls`).\n",
    "\n",
    "Start with easy tasks to show you can read in a file, create some variables and data structures, and manipulate their contents. Then move onto something more interesting.\n",
    "\n",
    "Look at the data that we provided with this assessment and think of something interesting to do with it using whatever libraries you like. Describe what you decide to do with the data and why it might be interesting or useful to the company to do it.\n",
    "\n",
    "You can add additional data if you need to - either download it or access it using `requests`. Produce working code to implement your ideas in as many cells as you need below. There is no single right answer, the aim is to simply show you are competent in using python for data analysis. Exactly how you do that is up to you.\n",
    "\n",
    "For a distinction class grade, this must show originality, creative thinking, and insights beyond what you've been taught directly on the module.\n",
    "\n",
    "## Delivery\n",
    "\n",
    "Rename this file to be xxxxxx_BD2 where xxxxxx is your student number, then type your code and narrative description into the boxes provided. Add as many code and markdown cells as you need. The cells should contain:\n",
    "\n",
    "- **Text narrative describing what you did with the data**\n",
    "- **The code that performs the task you have described**\n",
    "- **Comments that explain your code**\n",
    "\n",
    "When you are ready to submit, **print** your notebook as PDF (go to File -> Print Preview) in the Jupyter menu. Make sure you have run all the cells and that their output is displayed. Any lines of code or comments that are not visible in the pdf should be broken across several lines. You can then submit the file online.\n",
    "\n",
    "### Distinction\n",
    "- For a distinction, your code must be working, correct, and well commented and shows an appreciation of style, efficiency and reliability. All choices for methods and structures are concisely justified and alternatives are given well thought considerations. For a distinction, your work should be good enough to present to executives at the company.|\n",
    "\n",
    "## Structure\n",
    "\n",
    "You may structure the project how you wish, but here is a suggested guideline to help you organise your work:\n",
    "\n",
    " 1. Data Exploration - Explore the data and show you understand its structure and relations\n",
    " 2. Data Validation - Check the quality of the data. Is it complete? Are there obvious errors?\n",
    " 3. Data Visualisation - Gain an overall understanding of the data with visualisations\n",
    " 4. Data Analysis = Set some questions and use the data to answer them\n",
    " 5. Data Augmentation - Add new data from another source to bring new insights to the data you already have\n",
    "\n",
    "## Data Sources\n",
    "\n",
    "Five original assignment files:\n",
    "- jcpenney_reviewers.json\n",
    "- jcpenney_products.json\n",
    "- products.csv\n",
    "- reviews.csv\n",
    "- users.csv\n",
    "\n",
    "This data describes:\n",
    "- reviews by customers who bought products\n",
    "- products that have been sold by the American retail giant, JC Penney, "
   ]
  }
 ],
 "metadata": {
  "language_info": {
   "name": "python"
  }
 },
 "nbformat": 4,
 "nbformat_minor": 2
}
