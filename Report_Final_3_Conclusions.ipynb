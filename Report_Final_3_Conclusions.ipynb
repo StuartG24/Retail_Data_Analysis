{
 "cells": [
  {
   "cell_type": "markdown",
   "metadata": {},
   "source": [
    "# Conclusions\n",
    "\n"
   ]
  },
  {
   "cell_type": "markdown",
   "metadata": {},
   "source": [
    "# References\n",
    "\n",
    "Microsoft (2023) https://devblogs.microsoft.com/python/data-wrangler-release/\n",
    "\n",
    "Ncr, P.C. et al. (1999) ‘CRISP-DM 1.0’ \n",
    "\n",
    "Hotz (2024) https://www.datascience-pm.com/crisp-dm-2/\n",
    "\n",
    "Modern Retail (2023) https://www.modernretail.co/operations/jcpenney-is-the-latest-department-store-to-announce-a-major-turnaround-plan/\n",
    "\n"
   ]
  }
 ],
 "metadata": {
  "kernelspec": {
   "display_name": "base",
   "language": "python",
   "name": "python3"
  },
  "language_info": {
   "codemirror_mode": {
    "name": "ipython",
    "version": 3
   },
   "file_extension": ".py",
   "mimetype": "text/x-python",
   "name": "python",
   "nbconvert_exporter": "python",
   "pygments_lexer": "ipython3",
   "version": "3.12.4"
  }
 },
 "nbformat": 4,
 "nbformat_minor": 2
}
