{
 "cells": [
  {
   "cell_type": "markdown",
   "metadata": {},
   "source": [
    "# Data Exploration & Working\n",
    "\n",
    "NB: NOT the report but a place to brain dump analysis, plots etc etc - Then copy relevnt code and results to the report"
   ]
  }
 ],
 "metadata": {
  "language_info": {
   "name": "python"
  }
 },
 "nbformat": 4,
 "nbformat_minor": 2
}
